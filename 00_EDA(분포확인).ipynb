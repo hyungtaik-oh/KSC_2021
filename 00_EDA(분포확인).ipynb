{
 "cells": [
  {
   "cell_type": "code",
   "execution_count": 18,
   "id": "ef65101d",
   "metadata": {},
   "outputs": [],
   "source": [
    "import os\n",
    "import pandas as pd\n",
    "import numpy as np\n",
    "\n",
    "import matplotlib.pyplot as plt\n",
    "import seaborn as sns"
   ]
  },
  {
   "cell_type": "code",
   "execution_count": 2,
   "id": "893982c4",
   "metadata": {},
   "outputs": [
    {
     "data": {
      "text/plain": [
       "['mv_1M.csv',\n",
       " 's_mean_adj_mat.npz',\n",
       " 'mv_weight*0.01.npy',\n",
       " 'mv1m_data(to_list,stars_mean).csv',\n",
       " 's_adj_mat.npz',\n",
       " 's_norm_adj_mat.npz',\n",
       " 'train.txt',\n",
       " '.ipynb_checkpoints',\n",
       " 'mv1m_business_id_list.txt',\n",
       " 'test.txt',\n",
       " 'mv1m_user_id_list.txt',\n",
       " 'train_test.txt',\n",
       " 'mv_weight*1.npy']"
      ]
     },
     "execution_count": 2,
     "metadata": {},
     "output_type": "execute_result"
    }
   ],
   "source": [
    "os.listdir('../Data/mv')"
   ]
  },
  {
   "cell_type": "code",
   "execution_count": 6,
   "id": "81577527",
   "metadata": {},
   "outputs": [],
   "source": [
    "elec = pd.read_csv('../Data/elec/elec_data(to_list,overall_men).csv')\n",
    "\n",
    "sort_elec = elec[['asin', 'asin_overall_mean']].sort_values(by = 'asin')\n",
    "\n",
    "sort_elec = sort_elec.drop_duplicates()\n",
    "\n",
    "sort_elec = sort_elec.reset_index(drop = True)"
   ]
  },
  {
   "cell_type": "code",
   "execution_count": 7,
   "id": "980788f8",
   "metadata": {},
   "outputs": [
    {
     "data": {
      "text/html": [
       "<div>\n",
       "<style scoped>\n",
       "    .dataframe tbody tr th:only-of-type {\n",
       "        vertical-align: middle;\n",
       "    }\n",
       "\n",
       "    .dataframe tbody tr th {\n",
       "        vertical-align: top;\n",
       "    }\n",
       "\n",
       "    .dataframe thead th {\n",
       "        text-align: right;\n",
       "    }\n",
       "</style>\n",
       "<table border=\"1\" class=\"dataframe\">\n",
       "  <thead>\n",
       "    <tr style=\"text-align: right;\">\n",
       "      <th></th>\n",
       "      <th>asin</th>\n",
       "      <th>asin_overall_mean</th>\n",
       "    </tr>\n",
       "  </thead>\n",
       "  <tbody>\n",
       "    <tr>\n",
       "      <th>0</th>\n",
       "      <td>0</td>\n",
       "      <td>4.474576</td>\n",
       "    </tr>\n",
       "    <tr>\n",
       "      <th>1</th>\n",
       "      <td>1</td>\n",
       "      <td>5.000000</td>\n",
       "    </tr>\n",
       "    <tr>\n",
       "      <th>2</th>\n",
       "      <td>2</td>\n",
       "      <td>2.666667</td>\n",
       "    </tr>\n",
       "    <tr>\n",
       "      <th>3</th>\n",
       "      <td>3</td>\n",
       "      <td>5.000000</td>\n",
       "    </tr>\n",
       "    <tr>\n",
       "      <th>4</th>\n",
       "      <td>4</td>\n",
       "      <td>4.529412</td>\n",
       "    </tr>\n",
       "    <tr>\n",
       "      <th>...</th>\n",
       "      <td>...</td>\n",
       "      <td>...</td>\n",
       "    </tr>\n",
       "    <tr>\n",
       "      <th>259169</th>\n",
       "      <td>259169</td>\n",
       "      <td>4.000000</td>\n",
       "    </tr>\n",
       "    <tr>\n",
       "      <th>259170</th>\n",
       "      <td>259170</td>\n",
       "      <td>5.000000</td>\n",
       "    </tr>\n",
       "    <tr>\n",
       "      <th>259171</th>\n",
       "      <td>259171</td>\n",
       "      <td>2.000000</td>\n",
       "    </tr>\n",
       "    <tr>\n",
       "      <th>259172</th>\n",
       "      <td>259172</td>\n",
       "      <td>4.750000</td>\n",
       "    </tr>\n",
       "    <tr>\n",
       "      <th>259173</th>\n",
       "      <td>259173</td>\n",
       "      <td>4.000000</td>\n",
       "    </tr>\n",
       "  </tbody>\n",
       "</table>\n",
       "<p>259174 rows × 2 columns</p>\n",
       "</div>"
      ],
      "text/plain": [
       "          asin  asin_overall_mean\n",
       "0            0           4.474576\n",
       "1            1           5.000000\n",
       "2            2           2.666667\n",
       "3            3           5.000000\n",
       "4            4           4.529412\n",
       "...        ...                ...\n",
       "259169  259169           4.000000\n",
       "259170  259170           5.000000\n",
       "259171  259171           2.000000\n",
       "259172  259172           4.750000\n",
       "259173  259173           4.000000\n",
       "\n",
       "[259174 rows x 2 columns]"
      ]
     },
     "execution_count": 7,
     "metadata": {},
     "output_type": "execute_result"
    }
   ],
   "source": [
    "sort_elec"
   ]
  },
  {
   "cell_type": "code",
   "execution_count": 8,
   "id": "b0e9bcc6",
   "metadata": {},
   "outputs": [],
   "source": [
    "x_elec = sort_elec['asin_overall_mean']"
   ]
  },
  {
   "cell_type": "code",
   "execution_count": 9,
   "id": "fa8a5257",
   "metadata": {},
   "outputs": [
    {
     "data": {
      "text/plain": [
       "<AxesSubplot:xlabel='asin_overall_mean'>"
      ]
     },
     "execution_count": 9,
     "metadata": {},
     "output_type": "execute_result"
    },
    {
     "data": {
      "image/png": "[encoded data removed]",
      "text/plain": [
       "<Figure size 720x504 with 1 Axes>"
      ]
     },
     "metadata": {
      "needs_background": "light"
     },
     "output_type": "display_data"
    }
   ],
   "source": [
    "sns.violinplot(x = sort_elec['asin_overall_mean'])"
   ]
  },
  {
   "cell_type": "code",
   "execution_count": 10,
   "id": "3f8d1590",
   "metadata": {},
   "outputs": [],
   "source": [
    "yelp = pd.read_csv('../Data/yelp/yelp_data(to_list,stars_mean).csv')\n",
    "\n",
    "sort_yelp = yelp[['business_id', 'business_stars_mean']].sort_values(by = 'business_id')\n",
    "\n",
    "sort_yelp = sort_yelp.drop_duplicates()\n",
    "\n",
    "sort_yelp = sort_yelp.reset_index(drop = True)"
   ]
  },
  {
   "cell_type": "code",
   "execution_count": 11,
   "id": "c50c608c",
   "metadata": {},
   "outputs": [],
   "source": [
    "x_yelp = sort_yelp['business_stars_mean']"
   ]
  },
  {
   "cell_type": "code",
   "execution_count": 12,
   "id": "fbfb3a54",
   "metadata": {},
   "outputs": [],
   "source": [
    "mv = pd.read_csv('../Data/mv/mv1m_data(to_list,stars_mean).csv')\n",
    "\n",
    "sort_mv = mv[['movieID', 'movie_rating_mean']].sort_values(by = 'movieID')\n",
    "\n",
    "sort_mv = sort_mv.drop_duplicates()\n",
    "\n",
    "sort_mv = sort_mv.reset_index(drop = True)"
   ]
  },
  {
   "cell_type": "code",
   "execution_count": 13,
   "id": "a1f6eb7d",
   "metadata": {},
   "outputs": [],
   "source": [
    "x_mv = sort_mv['movie_rating_mean']"
   ]
  },
  {
   "cell_type": "code",
   "execution_count": 17,
   "id": "d5f8adea",
   "metadata": {},
   "outputs": [
    {
     "data": {
      "image/png": "[encoded data removed]",
      "text/plain": [
       "<Figure size 700x500 with 1 Axes>"
      ]
     },
     "metadata": {},
     "output_type": "display_data"
    }
   ],
   "source": [
    "plt.style.use('default')\n",
    "plt.rcParams['figure.figsize'] = (7, 5)\n",
    "plt.rcParams['font.size'] = 9\n",
    "\n",
    "fig, ax = plt.subplots()\n",
    "\n",
    "violin = ax.violinplot([x_elec, x_yelp, x_mv])\n",
    "# ax.set_ylim(-10.0, 10.0)\n",
    "ax.set_xticks(np.arange(1, 4))\n",
    "ax.set_xticklabels(['Amazon-Elec', 'Yelp', 'MV-lens'])\n",
    "# ax.set_xlabel('Data Type')\n",
    "ax.set_ylabel('Score')\n",
    "\n",
    "\n",
    "violin['bodies'][0].set_facecolor('blue')\n",
    "violin['bodies'][1].set_facecolor('red')\n",
    "violin['bodies'][2].set_facecolor('green')\n",
    "\n",
    "violin['cbars'].set_edgecolor('gray')\n",
    "violin['cmaxes'].set_edgecolor('gray')\n",
    "violin['cmins'].set_edgecolor('gray')\n",
    "# violin['cmeans'].set_edgecolor('gray')\n",
    "\n",
    "\n",
    "plt.show()"
   ]
  }
 ],
 "metadata": {
  "kernelspec": {
   "display_name": "Python 3",
   "language": "python",
   "name": "python3"
  },
  "language_info": {
   "codemirror_mode": {
    "name": "ipython",
    "version": 3
   },
   "file_extension": ".py",
   "mimetype": "text/x-python",
   "name": "python",
   "nbconvert_exporter": "python",
   "pygments_lexer": "ipython3",
   "version": "3.6.9"
  }
 },
 "nbformat": 4,
 "nbformat_minor": 5
}
