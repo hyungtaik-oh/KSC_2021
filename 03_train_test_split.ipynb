{
 "cells": [
  {
   "cell_type": "markdown",
   "id": "aa89e9f7",
   "metadata": {},
   "source": [
    "- test 먼저 생성"
   ]
  },
  {
   "cell_type": "code",
   "execution_count": 1,
   "id": "f80c739c",
   "metadata": {},
   "outputs": [],
   "source": [
    "import pandas as pd\n",
    "import os"
   ]
  },
  {
   "cell_type": "code",
   "execution_count": 2,
   "id": "78ecb9b7",
   "metadata": {},
   "outputs": [],
   "source": [
    "import numpy as np\n",
    "import random"
   ]
  },
  {
   "cell_type": "code",
   "execution_count": 3,
   "id": "d5b6a948",
   "metadata": {},
   "outputs": [],
   "source": [
    "from tqdm import tqdm"
   ]
  },
  {
   "cell_type": "code",
   "execution_count": 16,
   "id": "60d30c0a",
   "metadata": {},
   "outputs": [
    {
     "data": {
      "text/plain": [
       "['mv_1M.csv',\n",
       " 's_mean_adj_mat.npz',\n",
       " 'mv_weight*0.01.npy',\n",
       " 'mv1m_data(to_list,stars_mean).csv',\n",
       " 's_adj_mat.npz',\n",
       " 's_norm_adj_mat.npz',\n",
       " 'train.txt',\n",
       " '.ipynb_checkpoints',\n",
       " 'mv1m_business_id_list.txt',\n",
       " 'test.txt',\n",
       " 'mv1m_user_id_list.txt',\n",
       " 'train_test.txt',\n",
       " 'mv_weight*1.npy']"
      ]
     },
     "execution_count": 16,
     "metadata": {},
     "output_type": "execute_result"
    }
   ],
   "source": [
    "os.listdir('../Data/mv/train_test.txt')"
   ]
  },
  {
   "cell_type": "code",
   "execution_count": 8,
   "id": "0a42fe9f",
   "metadata": {},
   "outputs": [],
   "source": [
    "data = pd.read_csv('../Data/mv/mv1m_data(to_list,stars_mean).csv')"
   ]
  },
  {
   "cell_type": "code",
   "execution_count": 13,
   "id": "d2b8a26d",
   "metadata": {},
   "outputs": [
    {
     "data": {
      "text/html": [
       "<div>\n",
       "<style scoped>\n",
       "    .dataframe tbody tr th:only-of-type {\n",
       "        vertical-align: middle;\n",
       "    }\n",
       "\n",
       "    .dataframe tbody tr th {\n",
       "        vertical-align: top;\n",
       "    }\n",
       "\n",
       "    .dataframe thead th {\n",
       "        text-align: right;\n",
       "    }\n",
       "</style>\n",
       "<table border=\"1\" class=\"dataframe\">\n",
       "  <thead>\n",
       "    <tr style=\"text-align: right;\">\n",
       "      <th></th>\n",
       "      <th>userID</th>\n",
       "      <th>movieID</th>\n",
       "      <th>Rating</th>\n",
       "      <th>movie_rating_mean</th>\n",
       "    </tr>\n",
       "  </thead>\n",
       "  <tbody>\n",
       "    <tr>\n",
       "      <th>0</th>\n",
       "      <td>0</td>\n",
       "      <td>1010</td>\n",
       "      <td>5</td>\n",
       "      <td>4.390725</td>\n",
       "    </tr>\n",
       "    <tr>\n",
       "      <th>1</th>\n",
       "      <td>0</td>\n",
       "      <td>598</td>\n",
       "      <td>3</td>\n",
       "      <td>3.464762</td>\n",
       "    </tr>\n",
       "    <tr>\n",
       "      <th>2</th>\n",
       "      <td>0</td>\n",
       "      <td>774</td>\n",
       "      <td>3</td>\n",
       "      <td>4.154088</td>\n",
       "    </tr>\n",
       "    <tr>\n",
       "      <th>3</th>\n",
       "      <td>0</td>\n",
       "      <td>2965</td>\n",
       "      <td>4</td>\n",
       "      <td>3.863775</td>\n",
       "    </tr>\n",
       "    <tr>\n",
       "      <th>4</th>\n",
       "      <td>0</td>\n",
       "      <td>2017</td>\n",
       "      <td>5</td>\n",
       "      <td>3.854375</td>\n",
       "    </tr>\n",
       "  </tbody>\n",
       "</table>\n",
       "</div>"
      ],
      "text/plain": [
       "   userID  movieID  Rating  movie_rating_mean\n",
       "0       0     1010       5           4.390725\n",
       "1       0      598       3           3.464762\n",
       "2       0      774       3           4.154088\n",
       "3       0     2965       4           3.863775\n",
       "4       0     2017       5           3.854375"
      ]
     },
     "execution_count": 13,
     "metadata": {},
     "output_type": "execute_result"
    }
   ],
   "source": [
    "data.head()"
   ]
  },
  {
   "cell_type": "code",
   "execution_count": 114,
   "id": "5d0f78f4",
   "metadata": {},
   "outputs": [],
   "source": [
    "train_test = []\n",
    "\n",
    "%%time\n",
    "for i in range(6036): # 전체 유저 수\n",
    "    train_test.append(i)\n",
    "    train_test.extend(list(data.loc[data['userID'] == i]['movieID'].values))\n",
    "    train_test.extend('\\n')"
   ]
  },
  {
   "cell_type": "code",
   "execution_count": 172,
   "id": "93bb1e46",
   "metadata": {},
   "outputs": [],
   "source": [
    "with open('../Data/train_test.txt', 'w', encoding = 'UTF-8') as f:\n",
    "    for name in train_test:\n",
    "        if name == '\\n':\n",
    "            f.write(str(name))\n",
    "        else:\n",
    "            f.write(str(name) + ' ')\n",
    "f.close()"
   ]
  },
  {
   "cell_type": "markdown",
   "id": "d32f9a98",
   "metadata": {},
   "source": [
    "- '' 제거해야함 => l.strip('\\n').split() 해결 가능"
   ]
  },
  {
   "cell_type": "markdown",
   "id": "147518cb",
   "metadata": {},
   "source": [
    "- train, test 80% 으로 나누기 "
   ]
  },
  {
   "cell_type": "code",
   "execution_count": 17,
   "id": "e3d16555",
   "metadata": {},
   "outputs": [],
   "source": [
    "random.seed(777)\n",
    "f = open('../Data/mv/train_test.txt', 'r')\n",
    "datas = f.readlines()\n",
    "f.close()"
   ]
  },
  {
   "cell_type": "code",
   "execution_count": 25,
   "id": "dffe9891",
   "metadata": {},
   "outputs": [
    {
     "name": "stderr",
     "output_type": "stream",
     "text": [
      "  0%|          | 0/52491 [00:00<?, ?it/s]\n"
     ]
    }
   ],
   "source": [
    "# 1-fold\n",
    "train_list = []; test_list = []\n",
    "random.seed(777)\n",
    "\n",
    "for data in tqdm(datas):\n",
    "    index = data.split()[0]\n",
    "    etc = data.split()[1:]\n",
    "    random.shuffle(etc)\n",
    "    \n",
    "    test = etc[round(len(etc)*0.8):]\n",
    "    test_list.extend([index] + test)\n",
    "    test_list.extend('\\n')\n",
    "    \n",
    "    train = etc[:round(len(etc)*0.8)]\n",
    "    train_list.extend([index] + train)\n",
    "    train_list.extend('\\n')"
   ]
  },
  {
   "cell_type": "code",
   "execution_count": null,
   "id": "0e92b21e",
   "metadata": {},
   "outputs": [],
   "source": [
    "with open('../Data/train.txt', 'w', encoding = 'UTF-8') as f:\n",
    "    for name in train_list:\n",
    "        if name == '\\n':\n",
    "            f.write(str(name))\n",
    "        else:\n",
    "            f.write(str(name) + ' ')\n",
    "f.close()"
   ]
  },
  {
   "cell_type": "code",
   "execution_count": null,
   "id": "88b6262d",
   "metadata": {},
   "outputs": [],
   "source": [
    "with open('../Data/test.txt', 'w', encoding = 'UTF-8') as f:\n",
    "    for name in test_list:\n",
    "        if name == '\\n':\n",
    "            f.write(str(name))\n",
    "        else:\n",
    "            f.write(str(name) + ' ')\n",
    "f.close()"
   ]
  },
  {
   "cell_type": "code",
   "execution_count": 19,
   "id": "a6e4d7fb",
   "metadata": {},
   "outputs": [
    {
     "name": "stderr",
     "output_type": "stream",
     "text": [
      "100%|██████████| 6036/6036 [00:01<00:00, 4666.15it/s]\n"
     ]
    }
   ],
   "source": [
    "# 2-flod\n",
    "train_list = []; test_list = []\n",
    "random.seed(777)\n",
    "\n",
    "for data in tqdm(datas):\n",
    "    index = data.split()[0]\n",
    "    etc = data.split()[1:]\n",
    "    random.shuffle(etc)\n",
    "    \n",
    "    test = etc[round(len(etc)*0.6):round(len(etc)*0.8)]\n",
    "    test_list.extend([index] + test)\n",
    "    test_list.extend('\\n')\n",
    "    \n",
    "    train = (etc[round(len(etc)*0.0) : round(len(etc)*0.6)] + \n",
    "             etc[round(len(etc)*0.8) : round(len(etc)*1.0)])\n",
    "    train_list.extend([index] + train)\n",
    "    train_list.extend('\\n')\n",
    "    "
   ]
  },
  {
   "cell_type": "code",
   "execution_count": 20,
   "id": "55d57dae",
   "metadata": {},
   "outputs": [],
   "source": [
    "with open('../Data/mv/2fold_train.txt', 'w', encoding = 'UTF-8') as f:\n",
    "    for name in train_list:\n",
    "        if name == '\\n':\n",
    "            f.write(str(name))\n",
    "        else:\n",
    "            f.write(str(name) + ' ')\n",
    "f.close()\n",
    "\n",
    "with open('../Data/mv/2fold_test.txt', 'w', encoding = 'UTF-8') as f:\n",
    "    for name in test_list:\n",
    "        if name == '\\n':\n",
    "            f.write(str(name))\n",
    "        else:\n",
    "            f.write(str(name) + ' ')\n",
    "f.close()"
   ]
  },
  {
   "cell_type": "code",
   "execution_count": 21,
   "id": "0ec79d45",
   "metadata": {},
   "outputs": [
    {
     "name": "stderr",
     "output_type": "stream",
     "text": [
      "100%|██████████| 6036/6036 [00:01<00:00, 5075.52it/s]\n"
     ]
    }
   ],
   "source": [
    "# 3-flod\n",
    "train_list = []; test_list = []\n",
    "random.seed(777)\n",
    "\n",
    "for data in tqdm(datas):\n",
    "    index = data.split()[0]\n",
    "    etc = data.split()[1:]\n",
    "    random.shuffle(etc)\n",
    "    \n",
    "    test = etc[round(len(etc)*0.4):round(len(etc)*0.6)]\n",
    "    test_list.extend([index] + test)\n",
    "    test_list.extend('\\n')\n",
    "    \n",
    "    train = (etc[round(len(etc)*0.0) : round(len(etc)*0.4)] + \n",
    "             etc[round(len(etc)*0.6) : round(len(etc)*1.0)])\n",
    "    train_list.extend([index] + train)\n",
    "    train_list.extend('\\n')"
   ]
  },
  {
   "cell_type": "code",
   "execution_count": 22,
   "id": "dcfd1f15",
   "metadata": {},
   "outputs": [],
   "source": [
    "with open('../Data/mv/3fold_train.txt', 'w', encoding = 'UTF-8') as f:\n",
    "    for name in train_list:\n",
    "        if name == '\\n':\n",
    "            f.write(str(name))\n",
    "        else:\n",
    "            f.write(str(name) + ' ')\n",
    "f.close()\n",
    "\n",
    "with open('../Data/mv/3fold_test.txt', 'w', encoding = 'UTF-8') as f:\n",
    "    for name in test_list:\n",
    "        if name == '\\n':\n",
    "            f.write(str(name))\n",
    "        else:\n",
    "            f.write(str(name) + ' ')\n",
    "f.close()"
   ]
  },
  {
   "cell_type": "code",
   "execution_count": 23,
   "id": "8d3394d8",
   "metadata": {},
   "outputs": [
    {
     "name": "stderr",
     "output_type": "stream",
     "text": [
      "100%|██████████| 6036/6036 [00:01<00:00, 4964.07it/s]\n"
     ]
    }
   ],
   "source": [
    "# 4-flod\n",
    "train_list = []; test_list = []\n",
    "random.seed(777)\n",
    "\n",
    "for data in tqdm(datas):\n",
    "    index = data.split()[0]\n",
    "    etc = data.split()[1:]\n",
    "    random.shuffle(etc)\n",
    "    \n",
    "    test = etc[round(len(etc)*0.2):round(len(etc)*0.4)]\n",
    "    test_list.extend([index] + test)\n",
    "    test_list.extend('\\n')\n",
    "    \n",
    "    train = (etc[round(len(etc)*0.0) : round(len(etc)*0.2)] + \n",
    "             etc[round(len(etc)*0.4) : round(len(etc)*1.0)])\n",
    "    train_list.extend([index] + train)\n",
    "    train_list.extend('\\n')"
   ]
  },
  {
   "cell_type": "code",
   "execution_count": 24,
   "id": "92804c50",
   "metadata": {},
   "outputs": [],
   "source": [
    "with open('../Data/mv/4fold_train.txt', 'w', encoding = 'UTF-8') as f:\n",
    "    for name in train_list:\n",
    "        if name == '\\n':\n",
    "            f.write(str(name))\n",
    "        else:\n",
    "            f.write(str(name) + ' ')\n",
    "f.close()\n",
    "\n",
    "with open('../Data/mv/4fold_test.txt', 'w', encoding = 'UTF-8') as f:\n",
    "    for name in test_list:\n",
    "        if name == '\\n':\n",
    "            f.write(str(name))\n",
    "        else:\n",
    "            f.write(str(name) + ' ')\n",
    "f.close()"
   ]
  },
  {
   "cell_type": "code",
   "execution_count": 25,
   "id": "968d68f2",
   "metadata": {},
   "outputs": [
    {
     "name": "stderr",
     "output_type": "stream",
     "text": [
      "100%|██████████| 6036/6036 [00:01<00:00, 5282.36it/s]\n"
     ]
    }
   ],
   "source": [
    "# 5-flod\n",
    "train_list = []; test_list = []\n",
    "random.seed(777)\n",
    "\n",
    "for data in tqdm(datas):\n",
    "    index = data.split()[0]\n",
    "    etc = data.split()[1:]\n",
    "    random.shuffle(etc)\n",
    "    \n",
    "    test = etc[round(len(etc)*0.0):round(len(etc)*0.2)]\n",
    "    test_list.extend([index] + test)\n",
    "    test_list.extend('\\n')\n",
    "    \n",
    "    train = etc[round(len(etc)*0.2) : round(len(etc)*1.0)]\n",
    "    train_list.extend([index] + train)\n",
    "    train_list.extend('\\n')"
   ]
  },
  {
   "cell_type": "code",
   "execution_count": 26,
   "id": "6c8f1fa8",
   "metadata": {},
   "outputs": [],
   "source": [
    "with open('../Data/mv/5fold_train.txt', 'w', encoding = 'UTF-8') as f:\n",
    "    for name in train_list:\n",
    "        if name == '\\n':\n",
    "            f.write(str(name))\n",
    "        else:\n",
    "            f.write(str(name) + ' ')\n",
    "f.close()\n",
    "\n",
    "with open('../Data/mv/5fold_test.txt', 'w', encoding = 'UTF-8') as f:\n",
    "    for name in test_list:\n",
    "        if name == '\\n':\n",
    "            f.write(str(name))\n",
    "        else:\n",
    "            f.write(str(name) + ' ')\n",
    "f.close()"
   ]
  },
  {
   "cell_type": "markdown",
   "id": "167e6ed0",
   "metadata": {},
   "source": [
    "- set을 하게 되면 중복된 아이템이 사라지게됨"
   ]
  },
  {
   "cell_type": "markdown",
   "id": "e878428b",
   "metadata": {},
   "source": [
    "- test 파일 문제 최소 4건이 뽑혀야 하는데 2건 3건 등 자주 보임 -> test먼저 20% 뽑는걸로 해결?"
   ]
  }
 ],
 "metadata": {
  "kernelspec": {
   "display_name": "Python 3",
   "language": "python",
   "name": "python3"
  },
  "language_info": {
   "codemirror_mode": {
    "name": "ipython",
    "version": 3
   },
   "file_extension": ".py",
   "mimetype": "text/x-python",
   "name": "python",
   "nbconvert_exporter": "python",
   "pygments_lexer": "ipython3",
   "version": "3.6.9"
  }
 },
 "nbformat": 4,
 "nbformat_minor": 5
}
