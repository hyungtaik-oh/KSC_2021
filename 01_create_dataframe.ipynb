{
 "cells": [
  {
   "cell_type": "markdown",
   "id": "cb41b317",
   "metadata": {},
   "source": [
    "- json 파일을 csv로 변환함\n",
    "- elec 데이터중 user의 거래가 20개 이상인 데이터만 추출함"
   ]
  },
  {
   "cell_type": "code",
   "execution_count": 6,
   "id": "7567c61e",
   "metadata": {},
   "outputs": [],
   "source": [
    "import json\n",
    "import os\n",
    "\n",
    "import pandas as pd"
   ]
  },
  {
   "cell_type": "code",
   "execution_count": 2,
   "id": "e9d62890",
   "metadata": {},
   "outputs": [
    {
     "name": "stdout",
     "output_type": "stream",
     "text": [
      "CPU times: user 2min 39s, sys: 27.8 s, total: 3min 7s\n",
      "Wall time: 3min 6s\n"
     ]
    }
   ],
   "source": [
    "%%time\n",
    "elecs = []\n",
    "for line in open('/docker/ht/graph/dataset/amz_dataset/Electronics.json', 'r'):\n",
    "    elecs.append(json.loads(line))"
   ]
  },
  {
   "cell_type": "code",
   "execution_count": 8,
   "id": "b87e2d9b",
   "metadata": {},
   "outputs": [
    {
     "name": "stdout",
     "output_type": "stream",
     "text": [
      "CPU times: user 1min 2s, sys: 29.9 s, total: 1min 32s\n",
      "Wall time: 1min 32s\n"
     ]
    }
   ],
   "source": [
    "%%time\n",
    "df = pd.DataFrame(elecs)"
   ]
  },
  {
   "cell_type": "code",
   "execution_count": 11,
   "id": "64a1a04f",
   "metadata": {},
   "outputs": [],
   "source": [
    "df = df[['overall', 'reviewerID', 'asin']]"
   ]
  },
  {
   "cell_type": "code",
   "execution_count": 20,
   "id": "f6a6ff14",
   "metadata": {},
   "outputs": [
    {
     "data": {
      "text/plain": [
       "overall       0\n",
       "reviewerID    0\n",
       "asin          0\n",
       "dtype: int64"
      ]
     },
     "execution_count": 20,
     "metadata": {},
     "output_type": "execute_result"
    }
   ],
   "source": [
    "# 널값 없음\n",
    "df.isnull().sum()"
   ]
  },
  {
   "cell_type": "code",
   "execution_count": 28,
   "id": "da60377c",
   "metadata": {},
   "outputs": [
    {
     "data": {
      "text/plain": [
       "9838676"
      ]
     },
     "execution_count": 28,
     "metadata": {},
     "output_type": "execute_result"
    }
   ],
   "source": [
    "# reviewer 수\n",
    "len(df['reviewerID'].unique())"
   ]
  },
  {
   "cell_type": "code",
   "execution_count": 29,
   "id": "dd0d7b45",
   "metadata": {},
   "outputs": [
    {
     "data": {
      "text/plain": [
       "756489"
      ]
     },
     "execution_count": 29,
     "metadata": {},
     "output_type": "execute_result"
    }
   ],
   "source": [
    "# item 수\n",
    "len(df['asin'].unique())"
   ]
  },
  {
   "cell_type": "code",
   "execution_count": 58,
   "id": "1de1aa42",
   "metadata": {},
   "outputs": [],
   "source": [
    "new_df = df['reviewerID'].value_counts()"
   ]
  },
  {
   "cell_type": "code",
   "execution_count": 64,
   "id": "8a625150",
   "metadata": {},
   "outputs": [],
   "source": [
    "new_df_list = new_df[new_df > 19].index.tolist()"
   ]
  },
  {
   "cell_type": "code",
   "execution_count": 68,
   "id": "384d2484",
   "metadata": {},
   "outputs": [],
   "source": [
    "new_df20 = df[df['reviewerID'].isin(new_df_list)]"
   ]
  },
  {
   "cell_type": "code",
   "execution_count": 77,
   "id": "24f9b698",
   "metadata": {},
   "outputs": [],
   "source": [
    "new_df20 = new_df20.reset_index(drop = True)"
   ]
  },
  {
   "cell_type": "code",
   "execution_count": 82,
   "id": "918ce0a8",
   "metadata": {},
   "outputs": [],
   "source": [
    "new_df20.to_csv('../Data/elec_data.csv', index = False)"
   ]
  },
  {
   "cell_type": "markdown",
   "id": "6f4603bd",
   "metadata": {},
   "source": [
    "### asin 제품 이름 매핑"
   ]
  },
  {
   "cell_type": "code",
   "execution_count": 31,
   "id": "fa7df9c7",
   "metadata": {},
   "outputs": [
    {
     "name": "stdout",
     "output_type": "stream",
     "text": [
      "CPU times: user 1min 26s, sys: 21 s, total: 1min 47s\n",
      "Wall time: 1min 47s\n"
     ]
    }
   ],
   "source": [
    "%%time\n",
    "elec_meta = []\n",
    "for line in open('/docker/ht/graph/dataset/amz_dataset/meta_Electronics.json', 'r'):\n",
    "    elec_meta.append(json.loads(line))"
   ]
  },
  {
   "cell_type": "code",
   "execution_count": 44,
   "id": "35690300",
   "metadata": {},
   "outputs": [],
   "source": [
    "data_meta = pd.DataFrame(elec_meta)"
   ]
  },
  {
   "cell_type": "code",
   "execution_count": 46,
   "id": "e443109b",
   "metadata": {},
   "outputs": [],
   "source": [
    "data_meta = data_meta[['title', 'brand', 'asin']]"
   ]
  },
  {
   "cell_type": "code",
   "execution_count": 84,
   "id": "64049640",
   "metadata": {},
   "outputs": [],
   "source": [
    "data_meta.to_csv('../Data/elec_meta.csv', index = False)"
   ]
  },
  {
   "cell_type": "code",
   "execution_count": null,
   "id": "b79173b4",
   "metadata": {},
   "outputs": [],
   "source": []
  }
 ],
 "metadata": {
  "kernelspec": {
   "display_name": "Python 3",
   "language": "python",
   "name": "python3"
  },
  "language_info": {
   "codemirror_mode": {
    "name": "ipython",
    "version": 3
   },
   "file_extension": ".py",
   "mimetype": "text/x-python",
   "name": "python",
   "nbconvert_exporter": "python",
   "pygments_lexer": "ipython3",
   "version": "3.6.9"
  }
 },
 "nbformat": 4,
 "nbformat_minor": 5
}
