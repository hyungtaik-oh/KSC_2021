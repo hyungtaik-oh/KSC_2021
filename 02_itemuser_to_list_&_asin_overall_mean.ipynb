{
 "cells": [
  {
   "cell_type": "markdown",
   "id": "895e7936",
   "metadata": {},
   "source": [
    "- item_list, user_list 파일 만들기"
   ]
  },
  {
   "cell_type": "code",
   "execution_count": 1,
   "id": "c7aa7968",
   "metadata": {},
   "outputs": [],
   "source": [
    "import pandas as pd\n",
    "import os"
   ]
  },
  {
   "cell_type": "code",
   "execution_count": 2,
   "id": "70442a67",
   "metadata": {},
   "outputs": [],
   "source": [
    "import matplotlib.pyplot as plt\n",
    "import seaborn as sns"
   ]
  },
  {
   "cell_type": "code",
   "execution_count": 3,
   "id": "9bef014d",
   "metadata": {},
   "outputs": [
    {
     "data": {
      "text/plain": [
       "['elec_data.csv',\n",
       " 'weight*0.01.npy',\n",
       " 's_mean_adj_mat.npz',\n",
       " 's_adj_mat.npz',\n",
       " 's_norm_adj_mat.npz',\n",
       " 'train.txt',\n",
       " 'asin_list.txt',\n",
       " '.ipynb_checkpoints',\n",
       " 'yelp_user_id_list.txt',\n",
       " '02_yelp_academic_dataset_review.json',\n",
       " 'test.txt',\n",
       " 'reviewerID_list.txt',\n",
       " 'yelp_data.csv',\n",
       " 'train_test.txt',\n",
       " 'elec_data(to_list,overall_men).csv',\n",
       " 'yelp_business_id_list.txt',\n",
       " 'elec_meta.csv']"
      ]
     },
     "execution_count": 3,
     "metadata": {},
     "output_type": "execute_result"
    }
   ],
   "source": [
    "os.listdir('../Data')"
   ]
  },
  {
   "cell_type": "code",
   "execution_count": 4,
   "id": "b43c00e1",
   "metadata": {},
   "outputs": [],
   "source": [
    "elec = pd.read_csv('../Data/elec_data.csv')"
   ]
  },
  {
   "cell_type": "code",
   "execution_count": 5,
   "id": "2a32c156",
   "metadata": {},
   "outputs": [
    {
     "data": {
      "text/html": [
       "<div>\n",
       "<style scoped>\n",
       "    .dataframe tbody tr th:only-of-type {\n",
       "        vertical-align: middle;\n",
       "    }\n",
       "\n",
       "    .dataframe tbody tr th {\n",
       "        vertical-align: top;\n",
       "    }\n",
       "\n",
       "    .dataframe thead th {\n",
       "        text-align: right;\n",
       "    }\n",
       "</style>\n",
       "<table border=\"1\" class=\"dataframe\">\n",
       "  <thead>\n",
       "    <tr style=\"text-align: right;\">\n",
       "      <th></th>\n",
       "      <th>overall</th>\n",
       "      <th>reviewerID</th>\n",
       "      <th>asin</th>\n",
       "    </tr>\n",
       "  </thead>\n",
       "  <tbody>\n",
       "    <tr>\n",
       "      <th>0</th>\n",
       "      <td>4.0</td>\n",
       "      <td>A2BZ7MYTSNYMEW</td>\n",
       "      <td>0060786817</td>\n",
       "    </tr>\n",
       "    <tr>\n",
       "      <th>1</th>\n",
       "      <td>5.0</td>\n",
       "      <td>A2GQ0WGM9BYX9O</td>\n",
       "      <td>0060786817</td>\n",
       "    </tr>\n",
       "    <tr>\n",
       "      <th>2</th>\n",
       "      <td>5.0</td>\n",
       "      <td>A1ER5AYS3FQ9O3</td>\n",
       "      <td>0151004714</td>\n",
       "    </tr>\n",
       "    <tr>\n",
       "      <th>3</th>\n",
       "      <td>1.0</td>\n",
       "      <td>A3U5CZ3PV82JXD</td>\n",
       "      <td>0373250460</td>\n",
       "    </tr>\n",
       "    <tr>\n",
       "      <th>4</th>\n",
       "      <td>5.0</td>\n",
       "      <td>A1MG56X36JEZKO</td>\n",
       "      <td>0375503757</td>\n",
       "    </tr>\n",
       "    <tr>\n",
       "      <th>...</th>\n",
       "      <td>...</td>\n",
       "      <td>...</td>\n",
       "      <td>...</td>\n",
       "    </tr>\n",
       "    <tr>\n",
       "      <th>1697991</th>\n",
       "      <td>5.0</td>\n",
       "      <td>A1KB3JXELNI0A8</td>\n",
       "      <td>B01HJFFHTC</td>\n",
       "    </tr>\n",
       "    <tr>\n",
       "      <th>1697992</th>\n",
       "      <td>5.0</td>\n",
       "      <td>A2MIQ3XWXKW7MN</td>\n",
       "      <td>B01HJFU2XI</td>\n",
       "    </tr>\n",
       "    <tr>\n",
       "      <th>1697993</th>\n",
       "      <td>4.0</td>\n",
       "      <td>A2IC7D1GD4217</td>\n",
       "      <td>B01HJFRHYA</td>\n",
       "    </tr>\n",
       "    <tr>\n",
       "      <th>1697994</th>\n",
       "      <td>5.0</td>\n",
       "      <td>A120TWL6P7XFYC</td>\n",
       "      <td>B01HJFUYFY</td>\n",
       "    </tr>\n",
       "    <tr>\n",
       "      <th>1697995</th>\n",
       "      <td>5.0</td>\n",
       "      <td>A283S2RYQGNJZ4</td>\n",
       "      <td>B01HJF95O0</td>\n",
       "    </tr>\n",
       "  </tbody>\n",
       "</table>\n",
       "<p>1697996 rows × 3 columns</p>\n",
       "</div>"
      ],
      "text/plain": [
       "         overall      reviewerID        asin\n",
       "0            4.0  A2BZ7MYTSNYMEW  0060786817\n",
       "1            5.0  A2GQ0WGM9BYX9O  0060786817\n",
       "2            5.0  A1ER5AYS3FQ9O3  0151004714\n",
       "3            1.0  A3U5CZ3PV82JXD  0373250460\n",
       "4            5.0  A1MG56X36JEZKO  0375503757\n",
       "...          ...             ...         ...\n",
       "1697991      5.0  A1KB3JXELNI0A8  B01HJFFHTC\n",
       "1697992      5.0  A2MIQ3XWXKW7MN  B01HJFU2XI\n",
       "1697993      4.0   A2IC7D1GD4217  B01HJFRHYA\n",
       "1697994      5.0  A120TWL6P7XFYC  B01HJFUYFY\n",
       "1697995      5.0  A283S2RYQGNJZ4  B01HJF95O0\n",
       "\n",
       "[1697996 rows x 3 columns]"
      ]
     },
     "execution_count": 5,
     "metadata": {},
     "output_type": "execute_result"
    }
   ],
   "source": [
    "elec"
   ]
  },
  {
   "cell_type": "code",
   "execution_count": 6,
   "id": "4024b77f",
   "metadata": {},
   "outputs": [],
   "source": [
    "# review to dict\n",
    "reviewerID_set = set(elec['reviewerID'])\n",
    "reviewerID_dict = {i : n for n, i in enumerate(reviewerID_set)}\n",
    "elec['reviewerID'] = elec['reviewerID'].apply(lambda x : reviewerID_dict[x])"
   ]
  },
  {
   "cell_type": "code",
   "execution_count": 7,
   "id": "87ea84ea",
   "metadata": {},
   "outputs": [],
   "source": [
    "with open('../Data/reviewerID_list.txt', 'w', encoding = 'UTF-8') as f:\n",
    "    f.write(str(reviewerID_dict))\n",
    "    f.close()"
   ]
  },
  {
   "cell_type": "code",
   "execution_count": 32,
   "id": "0e7bf5ab",
   "metadata": {},
   "outputs": [],
   "source": [
    "# asin to dictreviewer\n",
    "asin_set = set(elec['asin'])\n",
    "asin_dict = {i : n for n, i in enumerate(asin_set)}\n",
    "elec['asin'] = elec['asin'].apply(lambda x : asin_dict[x])"
   ]
  },
  {
   "cell_type": "code",
   "execution_count": 49,
   "id": "add0c538",
   "metadata": {},
   "outputs": [],
   "source": [
    "with open('../Data/asin_list.txt', 'w', encoding = 'UTF-8') as f:\n",
    "    f.write(str(asin_dict))\n",
    "    f.close()"
   ]
  },
  {
   "cell_type": "code",
   "execution_count": 58,
   "id": "d596d9b2",
   "metadata": {},
   "outputs": [],
   "source": [
    "# 컬럼 순서 바꿈\n",
    "elec = elec[['reviewerID', 'asin', 'overall']]"
   ]
  },
  {
   "cell_type": "code",
   "execution_count": 59,
   "id": "2ee9efe1",
   "metadata": {},
   "outputs": [
    {
     "data": {
      "text/html": [
       "<div>\n",
       "<style scoped>\n",
       "    .dataframe tbody tr th:only-of-type {\n",
       "        vertical-align: middle;\n",
       "    }\n",
       "\n",
       "    .dataframe tbody tr th {\n",
       "        vertical-align: top;\n",
       "    }\n",
       "\n",
       "    .dataframe thead th {\n",
       "        text-align: right;\n",
       "    }\n",
       "</style>\n",
       "<table border=\"1\" class=\"dataframe\">\n",
       "  <thead>\n",
       "    <tr style=\"text-align: right;\">\n",
       "      <th></th>\n",
       "      <th>reviewerID</th>\n",
       "      <th>asin</th>\n",
       "      <th>overall</th>\n",
       "    </tr>\n",
       "  </thead>\n",
       "  <tbody>\n",
       "    <tr>\n",
       "      <th>0</th>\n",
       "      <td>3319</td>\n",
       "      <td>74138</td>\n",
       "      <td>4.0</td>\n",
       "    </tr>\n",
       "    <tr>\n",
       "      <th>1</th>\n",
       "      <td>17157</td>\n",
       "      <td>74138</td>\n",
       "      <td>5.0</td>\n",
       "    </tr>\n",
       "    <tr>\n",
       "      <th>2</th>\n",
       "      <td>41082</td>\n",
       "      <td>137904</td>\n",
       "      <td>5.0</td>\n",
       "    </tr>\n",
       "    <tr>\n",
       "      <th>3</th>\n",
       "      <td>43777</td>\n",
       "      <td>181551</td>\n",
       "      <td>1.0</td>\n",
       "    </tr>\n",
       "    <tr>\n",
       "      <th>4</th>\n",
       "      <td>47696</td>\n",
       "      <td>51323</td>\n",
       "      <td>5.0</td>\n",
       "    </tr>\n",
       "    <tr>\n",
       "      <th>...</th>\n",
       "      <td>...</td>\n",
       "      <td>...</td>\n",
       "      <td>...</td>\n",
       "    </tr>\n",
       "    <tr>\n",
       "      <th>1697991</th>\n",
       "      <td>11004</td>\n",
       "      <td>149552</td>\n",
       "      <td>5.0</td>\n",
       "    </tr>\n",
       "    <tr>\n",
       "      <th>1697992</th>\n",
       "      <td>7583</td>\n",
       "      <td>137568</td>\n",
       "      <td>5.0</td>\n",
       "    </tr>\n",
       "    <tr>\n",
       "      <th>1697993</th>\n",
       "      <td>24892</td>\n",
       "      <td>192994</td>\n",
       "      <td>4.0</td>\n",
       "    </tr>\n",
       "    <tr>\n",
       "      <th>1697994</th>\n",
       "      <td>19188</td>\n",
       "      <td>75907</td>\n",
       "      <td>5.0</td>\n",
       "    </tr>\n",
       "    <tr>\n",
       "      <th>1697995</th>\n",
       "      <td>474</td>\n",
       "      <td>245931</td>\n",
       "      <td>5.0</td>\n",
       "    </tr>\n",
       "  </tbody>\n",
       "</table>\n",
       "<p>1697996 rows × 3 columns</p>\n",
       "</div>"
      ],
      "text/plain": [
       "         reviewerID    asin  overall\n",
       "0              3319   74138      4.0\n",
       "1             17157   74138      5.0\n",
       "2             41082  137904      5.0\n",
       "3             43777  181551      1.0\n",
       "4             47696   51323      5.0\n",
       "...             ...     ...      ...\n",
       "1697991       11004  149552      5.0\n",
       "1697992        7583  137568      5.0\n",
       "1697993       24892  192994      4.0\n",
       "1697994       19188   75907      5.0\n",
       "1697995         474  245931      5.0\n",
       "\n",
       "[1697996 rows x 3 columns]"
      ]
     },
     "execution_count": 59,
     "metadata": {},
     "output_type": "execute_result"
    }
   ],
   "source": [
    "elec"
   ]
  },
  {
   "cell_type": "code",
   "execution_count": 65,
   "id": "959b1b35",
   "metadata": {},
   "outputs": [],
   "source": [
    "asin_overall = elec.groupby(by = 'asin').mean()"
   ]
  },
  {
   "cell_type": "code",
   "execution_count": 70,
   "id": "1522d09e",
   "metadata": {},
   "outputs": [],
   "source": [
    "asin_overall = asin_overall.drop('reviewerID', axis = 1)"
   ]
  },
  {
   "cell_type": "code",
   "execution_count": 97,
   "id": "5225e732",
   "metadata": {},
   "outputs": [
    {
     "data": {
      "text/plain": [
       "0.7164491808591911"
      ]
     },
     "execution_count": 97,
     "metadata": {},
     "output_type": "execute_result"
    }
   ],
   "source": [
    "sum(elec['asin'].value_counts() <= 3) / 259174"
   ]
  },
  {
   "cell_type": "code",
   "execution_count": 120,
   "id": "3433013a",
   "metadata": {},
   "outputs": [
    {
     "data": {
      "image/png": "[encoded data removed]",
      "text/plain": [
       "<Figure size 432x288 with 1 Axes>"
      ]
     },
     "metadata": {
      "needs_background": "light"
     },
     "output_type": "display_data"
    }
   ],
   "source": [
    "sns.histplot(asin_overall['overall'])\n",
    "\n",
    "plt.title('asin overall hist')\n",
    "plt.show()"
   ]
  },
  {
   "cell_type": "markdown",
   "id": "c23ea828",
   "metadata": {},
   "source": [
    "- 단점\n",
    "- 제품에 대해 평가가 3개 이하인 것들이 185685개 있음\n",
    "- 71.6% 를 차지함 "
   ]
  },
  {
   "cell_type": "code",
   "execution_count": 132,
   "id": "9f447494",
   "metadata": {},
   "outputs": [],
   "source": [
    "asin_overall_dict = asin_overall['overall'].to_dict()"
   ]
  },
  {
   "cell_type": "code",
   "execution_count": 142,
   "id": "d0e3d774",
   "metadata": {},
   "outputs": [],
   "source": [
    "elec['asin_overall_mean'] = elec['asin'].apply(lambda x : asin_overall_dict[x])"
   ]
  },
  {
   "cell_type": "code",
   "execution_count": 150,
   "id": "4cfca16c",
   "metadata": {},
   "outputs": [
    {
     "data": {
      "text/html": [
       "<div>\n",
       "<style scoped>\n",
       "    .dataframe tbody tr th:only-of-type {\n",
       "        vertical-align: middle;\n",
       "    }\n",
       "\n",
       "    .dataframe tbody tr th {\n",
       "        vertical-align: top;\n",
       "    }\n",
       "\n",
       "    .dataframe thead th {\n",
       "        text-align: right;\n",
       "    }\n",
       "</style>\n",
       "<table border=\"1\" class=\"dataframe\">\n",
       "  <thead>\n",
       "    <tr style=\"text-align: right;\">\n",
       "      <th></th>\n",
       "      <th>reviewerID</th>\n",
       "      <th>asin</th>\n",
       "      <th>overall</th>\n",
       "      <th>asin_overall_mean</th>\n",
       "    </tr>\n",
       "  </thead>\n",
       "  <tbody>\n",
       "    <tr>\n",
       "      <th>0</th>\n",
       "      <td>3319</td>\n",
       "      <td>74138</td>\n",
       "      <td>4.0</td>\n",
       "      <td>4.5</td>\n",
       "    </tr>\n",
       "    <tr>\n",
       "      <th>1</th>\n",
       "      <td>17157</td>\n",
       "      <td>74138</td>\n",
       "      <td>5.0</td>\n",
       "      <td>4.5</td>\n",
       "    </tr>\n",
       "    <tr>\n",
       "      <th>2</th>\n",
       "      <td>41082</td>\n",
       "      <td>137904</td>\n",
       "      <td>5.0</td>\n",
       "      <td>5.0</td>\n",
       "    </tr>\n",
       "    <tr>\n",
       "      <th>3</th>\n",
       "      <td>43777</td>\n",
       "      <td>181551</td>\n",
       "      <td>1.0</td>\n",
       "      <td>1.0</td>\n",
       "    </tr>\n",
       "    <tr>\n",
       "      <th>4</th>\n",
       "      <td>47696</td>\n",
       "      <td>51323</td>\n",
       "      <td>5.0</td>\n",
       "      <td>5.0</td>\n",
       "    </tr>\n",
       "    <tr>\n",
       "      <th>...</th>\n",
       "      <td>...</td>\n",
       "      <td>...</td>\n",
       "      <td>...</td>\n",
       "      <td>...</td>\n",
       "    </tr>\n",
       "    <tr>\n",
       "      <th>1697991</th>\n",
       "      <td>11004</td>\n",
       "      <td>149552</td>\n",
       "      <td>5.0</td>\n",
       "      <td>3.6</td>\n",
       "    </tr>\n",
       "    <tr>\n",
       "      <th>1697992</th>\n",
       "      <td>7583</td>\n",
       "      <td>137568</td>\n",
       "      <td>5.0</td>\n",
       "      <td>5.0</td>\n",
       "    </tr>\n",
       "    <tr>\n",
       "      <th>1697993</th>\n",
       "      <td>24892</td>\n",
       "      <td>192994</td>\n",
       "      <td>4.0</td>\n",
       "      <td>4.0</td>\n",
       "    </tr>\n",
       "    <tr>\n",
       "      <th>1697994</th>\n",
       "      <td>19188</td>\n",
       "      <td>75907</td>\n",
       "      <td>5.0</td>\n",
       "      <td>5.0</td>\n",
       "    </tr>\n",
       "    <tr>\n",
       "      <th>1697995</th>\n",
       "      <td>474</td>\n",
       "      <td>245931</td>\n",
       "      <td>5.0</td>\n",
       "      <td>5.0</td>\n",
       "    </tr>\n",
       "  </tbody>\n",
       "</table>\n",
       "<p>1697996 rows × 4 columns</p>\n",
       "</div>"
      ],
      "text/plain": [
       "         reviewerID    asin  overall  asin_overall_mean\n",
       "0              3319   74138      4.0                4.5\n",
       "1             17157   74138      5.0                4.5\n",
       "2             41082  137904      5.0                5.0\n",
       "3             43777  181551      1.0                1.0\n",
       "4             47696   51323      5.0                5.0\n",
       "...             ...     ...      ...                ...\n",
       "1697991       11004  149552      5.0                3.6\n",
       "1697992        7583  137568      5.0                5.0\n",
       "1697993       24892  192994      4.0                4.0\n",
       "1697994       19188   75907      5.0                5.0\n",
       "1697995         474  245931      5.0                5.0\n",
       "\n",
       "[1697996 rows x 4 columns]"
      ]
     },
     "execution_count": 150,
     "metadata": {},
     "output_type": "execute_result"
    }
   ],
   "source": [
    "elec"
   ]
  },
  {
   "cell_type": "code",
   "execution_count": 154,
   "id": "b7f29773",
   "metadata": {},
   "outputs": [],
   "source": [
    "elec.to_csv('../Data/elec_data(to_list,overall_men).csv', index = False)"
   ]
  },
  {
   "cell_type": "code",
   "execution_count": 155,
   "id": "766ce6f6",
   "metadata": {},
   "outputs": [
    {
     "data": {
      "text/html": [
       "<div>\n",
       "<style scoped>\n",
       "    .dataframe tbody tr th:only-of-type {\n",
       "        vertical-align: middle;\n",
       "    }\n",
       "\n",
       "    .dataframe tbody tr th {\n",
       "        vertical-align: top;\n",
       "    }\n",
       "\n",
       "    .dataframe thead th {\n",
       "        text-align: right;\n",
       "    }\n",
       "</style>\n",
       "<table border=\"1\" class=\"dataframe\">\n",
       "  <thead>\n",
       "    <tr style=\"text-align: right;\">\n",
       "      <th></th>\n",
       "      <th>reviewerID</th>\n",
       "      <th>asin</th>\n",
       "      <th>overall</th>\n",
       "      <th>asin_overall_mean</th>\n",
       "    </tr>\n",
       "  </thead>\n",
       "  <tbody>\n",
       "    <tr>\n",
       "      <th>0</th>\n",
       "      <td>3319</td>\n",
       "      <td>74138</td>\n",
       "      <td>4.0</td>\n",
       "      <td>4.5</td>\n",
       "    </tr>\n",
       "    <tr>\n",
       "      <th>1</th>\n",
       "      <td>17157</td>\n",
       "      <td>74138</td>\n",
       "      <td>5.0</td>\n",
       "      <td>4.5</td>\n",
       "    </tr>\n",
       "    <tr>\n",
       "      <th>2</th>\n",
       "      <td>41082</td>\n",
       "      <td>137904</td>\n",
       "      <td>5.0</td>\n",
       "      <td>5.0</td>\n",
       "    </tr>\n",
       "    <tr>\n",
       "      <th>3</th>\n",
       "      <td>43777</td>\n",
       "      <td>181551</td>\n",
       "      <td>1.0</td>\n",
       "      <td>1.0</td>\n",
       "    </tr>\n",
       "    <tr>\n",
       "      <th>4</th>\n",
       "      <td>47696</td>\n",
       "      <td>51323</td>\n",
       "      <td>5.0</td>\n",
       "      <td>5.0</td>\n",
       "    </tr>\n",
       "    <tr>\n",
       "      <th>...</th>\n",
       "      <td>...</td>\n",
       "      <td>...</td>\n",
       "      <td>...</td>\n",
       "      <td>...</td>\n",
       "    </tr>\n",
       "    <tr>\n",
       "      <th>1697991</th>\n",
       "      <td>11004</td>\n",
       "      <td>149552</td>\n",
       "      <td>5.0</td>\n",
       "      <td>3.6</td>\n",
       "    </tr>\n",
       "    <tr>\n",
       "      <th>1697992</th>\n",
       "      <td>7583</td>\n",
       "      <td>137568</td>\n",
       "      <td>5.0</td>\n",
       "      <td>5.0</td>\n",
       "    </tr>\n",
       "    <tr>\n",
       "      <th>1697993</th>\n",
       "      <td>24892</td>\n",
       "      <td>192994</td>\n",
       "      <td>4.0</td>\n",
       "      <td>4.0</td>\n",
       "    </tr>\n",
       "    <tr>\n",
       "      <th>1697994</th>\n",
       "      <td>19188</td>\n",
       "      <td>75907</td>\n",
       "      <td>5.0</td>\n",
       "      <td>5.0</td>\n",
       "    </tr>\n",
       "    <tr>\n",
       "      <th>1697995</th>\n",
       "      <td>474</td>\n",
       "      <td>245931</td>\n",
       "      <td>5.0</td>\n",
       "      <td>5.0</td>\n",
       "    </tr>\n",
       "  </tbody>\n",
       "</table>\n",
       "<p>1697996 rows × 4 columns</p>\n",
       "</div>"
      ],
      "text/plain": [
       "         reviewerID    asin  overall  asin_overall_mean\n",
       "0              3319   74138      4.0                4.5\n",
       "1             17157   74138      5.0                4.5\n",
       "2             41082  137904      5.0                5.0\n",
       "3             43777  181551      1.0                1.0\n",
       "4             47696   51323      5.0                5.0\n",
       "...             ...     ...      ...                ...\n",
       "1697991       11004  149552      5.0                3.6\n",
       "1697992        7583  137568      5.0                5.0\n",
       "1697993       24892  192994      4.0                4.0\n",
       "1697994       19188   75907      5.0                5.0\n",
       "1697995         474  245931      5.0                5.0\n",
       "\n",
       "[1697996 rows x 4 columns]"
      ]
     },
     "execution_count": 155,
     "metadata": {},
     "output_type": "execute_result"
    }
   ],
   "source": [
    "pd.read_csv('../Data/elec_data(to_list,overall_men).csv')"
   ]
  }
 ],
 "metadata": {
  "kernelspec": {
   "display_name": "Python 3",
   "language": "python",
   "name": "python3"
  },
  "language_info": {
   "codemirror_mode": {
    "name": "ipython",
    "version": 3
   },
   "file_extension": ".py",
   "mimetype": "text/x-python",
   "name": "python",
   "nbconvert_exporter": "python",
   "pygments_lexer": "ipython3",
   "version": "3.6.9"
  }
 },
 "nbformat": 4,
 "nbformat_minor": 5
}
